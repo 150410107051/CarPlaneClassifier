{
  "nbformat": 4,
  "nbformat_minor": 0,
  "metadata": {
    "colab": {
      "name": "CNN_Sentdex.ipynb",
      "provenance": [],
      "collapsed_sections": [],
      "authorship_tag": "ABX9TyN3V3W+2I57MWGKA8OjcFZM",
      "include_colab_link": true
    },
    "kernelspec": {
      "name": "python3",
      "display_name": "Python 3"
    }
  },
  "cells": [
    {
      "cell_type": "markdown",
      "metadata": {
        "id": "view-in-github",
        "colab_type": "text"
      },
      "source": [
        "<a href=\"https://colab.research.google.com/github/150410107051/CarPlaneClassifier/blob/master/CNN_Sentdex.ipynb\" target=\"_parent\"><img src=\"https://colab.research.google.com/assets/colab-badge.svg\" alt=\"Open In Colab\"/></a>"
      ]
    },
    {
      "cell_type": "code",
      "metadata": {
        "id": "6nbgvJqTqCfg",
        "colab_type": "code",
        "colab": {}
      },
      "source": [
        "import numpy as np\n",
        "import os\n",
        "import cv2\n",
        "import matplotlib.pyplot as plt\n",
        "\n",
        "DataDir =\"/content/CarandPlane\"\n",
        "CateGories = [\"car\",\"plane\"]\n",
        "\n"
      ],
      "execution_count": 0,
      "outputs": []
    },
    {
      "cell_type": "markdown",
      "metadata": {
        "id": "md4jMAiwun2H",
        "colab_type": "text"
      },
      "source": [
        ""
      ]
    },
    {
      "cell_type": "code",
      "metadata": {
        "id": "th7sMXMNupIf",
        "colab_type": "code",
        "colab": {}
      },
      "source": [
        "training_data = [ ]\n",
        "IMG_SIZE =50\n",
        "def craete_training_data():\n",
        "  for category in CateGories:\n",
        "    path = os.path.join(DataDir,category)\n",
        "    class_num = CateGories.index(category)\n",
        "    for img in os.listdir(path):\n",
        "      try:\n",
        "        img_array =cv2.imread(os.path.join(path,img), cv2.IMREAD_GRAYSCALE)\n",
        "        new_array = cv2.resize(img_array, (IMG_SIZE, IMG_SIZE))\n",
        "        training_data.append([new_array, class_num])\n",
        "      except Exception as e:\n",
        "        pass\n",
        "\n",
        "craete_training_data()        \n",
        "\n"
      ],
      "execution_count": 0,
      "outputs": []
    },
    {
      "cell_type": "code",
      "metadata": {
        "id": "YVmyGWP8upl6",
        "colab_type": "code",
        "outputId": "12d9925a-ef09-40c5-c67e-835f66c81f08",
        "colab": {
          "base_uri": "https://localhost:8080/",
          "height": 34
        }
      },
      "source": [
        "print(len(training_data))"
      ],
      "execution_count": 6,
      "outputs": [
        {
          "output_type": "stream",
          "text": [
            "160\n"
          ],
          "name": "stdout"
        }
      ]
    },
    {
      "cell_type": "code",
      "metadata": {
        "id": "jwYa9-Qcupxr",
        "colab_type": "code",
        "colab": {}
      },
      "source": [
        "import random\n",
        "random.shuffle(training_data)"
      ],
      "execution_count": 0,
      "outputs": []
    },
    {
      "cell_type": "code",
      "metadata": {
        "id": "xhhtyFzQup0b",
        "colab_type": "code",
        "outputId": "57a5d014-89cb-46b8-f2ae-d081f1f2666b",
        "colab": {
          "base_uri": "https://localhost:8080/",
          "height": 187
        }
      },
      "source": [
        "for sample in training_data[:10]:\n",
        "  print(sample[1])"
      ],
      "execution_count": 8,
      "outputs": [
        {
          "output_type": "stream",
          "text": [
            "1\n",
            "1\n",
            "0\n",
            "1\n",
            "1\n",
            "0\n",
            "1\n",
            "1\n",
            "1\n",
            "1\n"
          ],
          "name": "stdout"
        }
      ]
    },
    {
      "cell_type": "code",
      "metadata": {
        "id": "fDOdcOPoup5c",
        "colab_type": "code",
        "colab": {}
      },
      "source": [
        "X=[]\n",
        "y=[]"
      ],
      "execution_count": 0,
      "outputs": []
    },
    {
      "cell_type": "code",
      "metadata": {
        "id": "yVHUwIAHup-p",
        "colab_type": "code",
        "colab": {}
      },
      "source": [
        "for feature, label in training_data:\n",
        "  X.append(feature)\n",
        "  y.append(label) "
      ],
      "execution_count": 0,
      "outputs": []
    },
    {
      "cell_type": "code",
      "metadata": {
        "id": "LWeP7kgx8yhb",
        "colab_type": "code",
        "colab": {}
      },
      "source": [
        "X= np.array(X).reshape(-1, IMG_SIZE, IMG_SIZE, 1)\n"
      ],
      "execution_count": 0,
      "outputs": []
    },
    {
      "cell_type": "code",
      "metadata": {
        "id": "wavrfGCDuqCG",
        "colab_type": "code",
        "colab": {}
      },
      "source": [
        "import pickle\n",
        "\n",
        "pickle_out = open(\"X.pickle\",\"wb\")\n",
        "pickle.dump(X, pickle_out)\n",
        "pickle_out.close()\n",
        "\n",
        "pickle_out = open(\"y.pickle\",\"wb\")\n",
        "pickle.dump(y, pickle_out)\n",
        "pickle_out.close()\n"
      ],
      "execution_count": 0,
      "outputs": []
    },
    {
      "cell_type": "code",
      "metadata": {
        "id": "lsUqbpCSup9F",
        "colab_type": "code",
        "colab": {
          "base_uri": "https://localhost:8080/",
          "height": 391
        },
        "outputId": "135c30c4-60e5-4ebe-c118-d906202f5288"
      },
      "source": [
        "import tensorflow as tf\n",
        "from tensorflow.keras.models import Sequential\n",
        "from tensorflow.keras.layers import Dense, Dropout, Activation, Flatten, Conv2D, MaxPooling2D\n",
        "import pickle\n",
        "\n",
        "X = pickle.load(open(\"X.pickle\",\"rb\"))\n",
        "y = pickle.load(open(\"y.pickle\",\"rb\"))\n",
        "\n",
        "X =X/255.0\n",
        "\n",
        "model = Sequential()\n",
        "model.add(Conv2D(64, (3,3), input_shape = X.shape[1:]))\n",
        "model.add(Activation(\"relu\"))\n",
        "model.add(MaxPooling2D(pool_size = (2,2)))\n",
        "\n",
        "model.add(Conv2D(64, (3,3)))\n",
        "model.add(Activation(\"relu\"))\n",
        "model.add(MaxPooling2D(pool_size = (2,2)))\n",
        "\n",
        "model.add(Flatten())\n",
        "model.add(Dense(64))\n",
        "\n",
        "model.add(Dense(1))\n",
        "model.add(Activation('sigmoid'))\n",
        "\n",
        "model.compile(loss=\"binary_crossentropy\",\n",
        "              optimizer=\"adam\",\n",
        "              metrics=['accuracy'])\n",
        "\n",
        "model.fit(X, y, batch_size=32, epochs=10, validation_split=0.1)\n",
        "\n",
        "\n"
      ],
      "execution_count": 22,
      "outputs": [
        {
          "output_type": "stream",
          "text": [
            "Train on 144 samples, validate on 16 samples\n",
            "Epoch 1/10\n",
            "144/144 [==============================] - 1s 7ms/sample - loss: 0.7491 - acc: 0.4444 - val_loss: 0.5543 - val_acc: 0.6250\n",
            "Epoch 2/10\n",
            "144/144 [==============================] - 1s 5ms/sample - loss: 0.5076 - acc: 0.7639 - val_loss: 0.5042 - val_acc: 0.8125\n",
            "Epoch 3/10\n",
            "144/144 [==============================] - 1s 5ms/sample - loss: 0.3922 - acc: 0.8472 - val_loss: 0.4964 - val_acc: 0.6875\n",
            "Epoch 4/10\n",
            "144/144 [==============================] - 1s 5ms/sample - loss: 0.2729 - acc: 0.8889 - val_loss: 0.4124 - val_acc: 0.8125\n",
            "Epoch 5/10\n",
            "144/144 [==============================] - 1s 6ms/sample - loss: 0.2833 - acc: 0.8750 - val_loss: 0.3637 - val_acc: 0.8125\n",
            "Epoch 6/10\n",
            "144/144 [==============================] - 1s 6ms/sample - loss: 0.2742 - acc: 0.9236 - val_loss: 0.7129 - val_acc: 0.6250\n",
            "Epoch 7/10\n",
            "144/144 [==============================] - 1s 5ms/sample - loss: 0.2769 - acc: 0.8819 - val_loss: 0.4075 - val_acc: 0.8750\n",
            "Epoch 8/10\n",
            "144/144 [==============================] - 1s 5ms/sample - loss: 0.2477 - acc: 0.9097 - val_loss: 0.4883 - val_acc: 0.7500\n",
            "Epoch 9/10\n",
            "144/144 [==============================] - 1s 5ms/sample - loss: 0.2249 - acc: 0.8958 - val_loss: 0.2979 - val_acc: 0.8125\n",
            "Epoch 10/10\n",
            "144/144 [==============================] - 1s 5ms/sample - loss: 0.1829 - acc: 0.9375 - val_loss: 0.3038 - val_acc: 0.8125\n"
          ],
          "name": "stdout"
        },
        {
          "output_type": "execute_result",
          "data": {
            "text/plain": [
              "<tensorflow.python.keras.callbacks.History at 0x7f6212b10e80>"
            ]
          },
          "metadata": {
            "tags": []
          },
          "execution_count": 22
        }
      ]
    },
    {
      "cell_type": "code",
      "metadata": {
        "id": "LjQ08acfl0l3",
        "colab_type": "code",
        "colab": {}
      },
      "source": [
        ""
      ],
      "execution_count": 0,
      "outputs": []
    },
    {
      "cell_type": "code",
      "metadata": {
        "id": "oD7Hvlp2l0j1",
        "colab_type": "code",
        "colab": {}
      },
      "source": [
        ""
      ],
      "execution_count": 0,
      "outputs": []
    },
    {
      "cell_type": "code",
      "metadata": {
        "id": "jZsALruvl0h8",
        "colab_type": "code",
        "colab": {}
      },
      "source": [
        ""
      ],
      "execution_count": 0,
      "outputs": []
    },
    {
      "cell_type": "code",
      "metadata": {
        "id": "RXkMGDB8l0d7",
        "colab_type": "code",
        "colab": {}
      },
      "source": [
        ""
      ],
      "execution_count": 0,
      "outputs": []
    },
    {
      "cell_type": "code",
      "metadata": {
        "id": "B3cq5gCtup3e",
        "colab_type": "code",
        "colab": {}
      },
      "source": [
        "\n",
        "\n",
        "\n",
        "\n",
        "\n"
      ],
      "execution_count": 0,
      "outputs": []
    }
  ]
}